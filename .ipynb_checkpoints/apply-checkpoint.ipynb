{
 "cells": [
  {
   "cell_type": "code",
   "execution_count": null,
   "id": "8765149a",
   "metadata": {},
   "outputs": [],
   "source": [
    "def fun(company_name,url):\n",
    "    result=False\n",
    "    words_company_name=company_name.split(sep=' ')   \n",
    "    for word in words_company_name:\n",
    "        found= re.search(word, url)\n",
    "        if found:\n",
    "            result=True\n",
    "    return result         \n",
    "    \n",
    "df['result']= df.apply(lambda x: fun(x.slowo,x.adres2), axis=1)\n",
    "df"
   ]
  },
  {
   "cell_type": "code",
   "execution_count": 21,
   "id": "49d6f6ce",
   "metadata": {},
   "outputs": [
    {
     "data": {
      "text/html": [
       "<div>\n",
       "<style scoped>\n",
       "    .dataframe tbody tr th:only-of-type {\n",
       "        vertical-align: middle;\n",
       "    }\n",
       "\n",
       "    .dataframe tbody tr th {\n",
       "        vertical-align: top;\n",
       "    }\n",
       "\n",
       "    .dataframe thead th {\n",
       "        text-align: right;\n",
       "    }\n",
       "</style>\n",
       "<table border=\"1\" class=\"dataframe\">\n",
       "  <thead>\n",
       "    <tr style=\"text-align: right;\">\n",
       "      <th></th>\n",
       "      <th>name</th>\n",
       "      <th>sex</th>\n",
       "      <th>location</th>\n",
       "      <th>height</th>\n",
       "      <th>weight</th>\n",
       "      <th>income</th>\n",
       "    </tr>\n",
       "  </thead>\n",
       "  <tbody>\n",
       "    <tr>\n",
       "      <th>0</th>\n",
       "      <td>Johannnes</td>\n",
       "      <td>M</td>\n",
       "      <td>GER</td>\n",
       "      <td>175</td>\n",
       "      <td>84</td>\n",
       "      <td>30.0</td>\n",
       "    </tr>\n",
       "    <tr>\n",
       "      <th>1</th>\n",
       "      <td>Marie</td>\n",
       "      <td>F</td>\n",
       "      <td>FR</td>\n",
       "      <td>160</td>\n",
       "      <td>50</td>\n",
       "      <td>50.0</td>\n",
       "    </tr>\n",
       "    <tr>\n",
       "      <th>2</th>\n",
       "      <td>Victoria</td>\n",
       "      <td>F</td>\n",
       "      <td>UK</td>\n",
       "      <td>164</td>\n",
       "      <td>54</td>\n",
       "      <td>NaN</td>\n",
       "    </tr>\n",
       "    <tr>\n",
       "      <th>3</th>\n",
       "      <td>Adam</td>\n",
       "      <td>M</td>\n",
       "      <td>UK</td>\n",
       "      <td>190</td>\n",
       "      <td>92</td>\n",
       "      <td>NaN</td>\n",
       "    </tr>\n",
       "    <tr>\n",
       "      <th>4</th>\n",
       "      <td>Ken</td>\n",
       "      <td>M</td>\n",
       "      <td>UK</td>\n",
       "      <td>184</td>\n",
       "      <td>88</td>\n",
       "      <td>30.0</td>\n",
       "    </tr>\n",
       "    <tr>\n",
       "      <th>5</th>\n",
       "      <td>Jonas</td>\n",
       "      <td>M</td>\n",
       "      <td>GER</td>\n",
       "      <td>184</td>\n",
       "      <td>88</td>\n",
       "      <td>40.0</td>\n",
       "    </tr>\n",
       "    <tr>\n",
       "      <th>6</th>\n",
       "      <td>Pierre</td>\n",
       "      <td>M</td>\n",
       "      <td>FR</td>\n",
       "      <td>190</td>\n",
       "      <td>100</td>\n",
       "      <td>NaN</td>\n",
       "    </tr>\n",
       "  </tbody>\n",
       "</table>\n",
       "</div>"
      ],
      "text/plain": [
       "        name sex location  height  weight  income\n",
       "0  Johannnes   M      GER     175      84    30.0\n",
       "1      Marie   F       FR     160      50    50.0\n",
       "2   Victoria   F       UK     164      54     NaN\n",
       "3       Adam   M       UK     190      92     NaN\n",
       "4        Ken   M       UK     184      88    30.0\n",
       "5      Jonas   M      GER     184      88    40.0\n",
       "6     Pierre   M       FR     190     100     NaN"
      ]
     },
     "execution_count": 21,
     "metadata": {},
     "output_type": "execute_result"
    }
   ],
   "source": [
    "import pandas as pd\n",
    "import numpy as np\n",
    "\n",
    "df=pd.read_excel('people.xlsx')\n",
    "df"
   ]
  },
  {
   "cell_type": "code",
   "execution_count": 54,
   "id": "f12d5fa1",
   "metadata": {},
   "outputs": [
    {
     "data": {
      "text/plain": [
       "location\n",
       "FR     0.428571\n",
       "GER    0.479109\n",
       "UK     0.434944\n",
       "dtype: float64"
      ]
     },
     "execution_count": 54,
     "metadata": {},
     "output_type": "execute_result"
    }
   ],
   "source": [
    "groups=df.groupby(['location'])\n",
    "res=groups.sex.count().reset_index()\n",
    "groups.apply(lambda x: x['weight'].mean()/x['height'].mean())\n",
    "\n",
    " "
   ]
  },
  {
   "cell_type": "code",
   "execution_count": null,
   "id": "11264f1c",
   "metadata": {},
   "outputs": [],
   "source": []
  },
  {
   "cell_type": "code",
   "execution_count": null,
   "id": "97713768",
   "metadata": {},
   "outputs": [],
   "source": []
  }
 ],
 "metadata": {
  "kernelspec": {
   "display_name": "Python 3 (ipykernel)",
   "language": "python",
   "name": "python3"
  },
  "language_info": {
   "codemirror_mode": {
    "name": "ipython",
    "version": 3
   },
   "file_extension": ".py",
   "mimetype": "text/x-python",
   "name": "python",
   "nbconvert_exporter": "python",
   "pygments_lexer": "ipython3",
   "version": "3.9.12"
  }
 },
 "nbformat": 4,
 "nbformat_minor": 5
}
